{
  "metadata": {
    "kernelspec": {
      "name": "python",
      "display_name": "Python (Pyodide)",
      "language": "python"
    },
    "language_info": {
      "codemirror_mode": {
        "name": "python",
        "version": 3
      },
      "file_extension": ".py",
      "mimetype": "text/x-python",
      "name": "python",
      "nbconvert_exporter": "python",
      "pygments_lexer": "ipython3",
      "version": "3.8"
    }
  },
  "nbformat_minor": 5,
  "nbformat": 4,
  "cells": [
    {
      "cell_type": "markdown",
      "source": "# Processor Temperature\nWe have a temperature sensor in our company's server processor and we want to analyze the data.",
      "metadata": {},
      "id": "f4f851bb-3c74-4128-b733-1d9b368d1d2e"
    },
    {
      "cell_type": "markdown",
      "source": "We have a temperature sensor in the processor of our company's server. We want to analyze the data provided to analyze if we should change the cooling system for a better one. It is expensive and as a data analyst we cannot make decisions without basis.\n\nWe provide the measured temperatures throughout the 24 hours of a day in a list-like data structure made up of 24 integers:",
      "metadata": {},
      "id": "6a96de74-71a0-4c1a-a77d-c3c5f18e4bae"
    },
    {
      "cell_type": "markdown",
      "source": "> temperaturas_C = [33,66,65,0,59,60,62,64,70,76,80,69,80,83,68,79,61,53,50,49,53,48,45,39]",
      "metadata": {},
      "id": "a80afe81-d08c-4d38-82f5-d95096d16b9f"
    },
    {
      "cell_type": "markdown",
      "source": "## Problem\nIf the sensor detects more than 4 hours with temperatures greater than or equal to 70ºC or any temperature greater than 80ºC or the average is greater than 65ºC throughout the day, we must give the order to change the cooling system to avoid damaging the processor.\n\nWe are going to guide you step by step so that you can make the decision calculating some intermediate steps:\n\n- Minimum temperature\n- Maximum temperature\n- Temperatures equal to or greater than 70ºC\n- Average temperatures throughout the day.\n- If there was a sensor failure at 03:00 and we did not capture the data, how would you estimate the missing value? Correct that value in the list of temperatures.\n- Bonus: Our maintenance staff is from the United States and does not understand the international metric system. Convert temperatures to Degrees Fahrenheit.\n- Formula: F = 1.8 * C + 32\n\nweb: https://es.wikipedia.org/wiki/Grado_Fahrenheit",
      "metadata": {},
      "id": "d83930c2-0d67-4206-bcf3-a0f88a871457"
    },
    {
      "cell_type": "markdown",
      "source": "## Taking the decission\nRemember that if the sensor detects more than 4 hours with temperatures greater than or equal to 70ºC or any temperature greater than 80ºC or the average is greater than 65ºC throughout the day, we must give the order to change the cooling system to avoid the danger of damaging the equipment:\n\nmore than 4 hours with temperatures greater than or equal to 70ºC\nsome temperature higher than 80ºC\naverage outside above 65ºC throughout the day If any of these three are met, the cooling system will have to be changed.",
      "metadata": {},
      "id": "876ff943-3ed5-4d34-9604-58c79810e53e"
    },
    {
      "cell_type": "markdown",
      "source": "## Objectives\n- List processing\n- Use of loop or list comprehension\n- Calculation of the average, minimum and maximum.\n- List filtering.\n- Interpolate an outlier.\n- Logical operators.\n- Print by console",
      "metadata": {},
      "id": "45a0bd47-decb-4e85-87f3-032e5001bd05"
    },
    {
      "cell_type": "code",
      "source": "## We check the type of the data\ntemperatures_C = [33,66,65,0,59,60,62,64,70,76,80,69,80,83,68,79,61,53,50,49,53,48,45,39]\nprint(type(temperatures_C))\n\n## Minimum temperature\ntemperatures_C = [33,66,65,0,59,60,62,64,70,76,80,69,80,83,68,79,61,53,50,49,53,48,45,39]\nmin_temp=[min(temperatures_C)]\nprint(\"The minimun temperature during the days was\", min_temp,\"degrees celsius\")\n\n## Maximum temperature\ntemperatures_C = [33,66,65,0,59,60,62,64,70,76,80,69,80,83,68,79,61,53,50,49,53,48,45,39]\nmax_temp=[max(temperatures_C)]\nprint(\"The maximun temperature during the days was\", max_temp,\"degrees celsius\")\n\n## Temperatures equal to or greater than 70ºC\nx = 70\ntemperatures_C = [33,66,65,0,59,60,62,64,70,76,80,69,80,83,68,79,61,53,50,49,53,48,45,39]\ngreater_equal = [temps for temps in temperatures_C if temps >= x]\nprint(\"This are the temperatures equal or greater than 70 Celsius:\",greater_equal)\n\n## another way\n\ntemperatures_C = [33,66,65,0,59,60,62,64,70,76,80,69,80,83,68,79,61,53,50,49,53,48,45,39]\ngreater_equal=[]\nfor temp in temperatures_C:\n    if temp >= 70:\n        greater_equal.append(temp)\nprint(\"This are the temperatures equal or greater than 70 Celsius:\",greater_equal)\n\n## Average temperatures throughout the day.\ntemperatures_C = [33,66,65,0,59,60,62,64,70,76,80,69,80,83,68,79,61,53,50,49,53,48,45,39]\nimport statistics\naverage = statistics.mean(temperatures_C)\nprint(\"The average temperature during the day was\",average,\"degrees celsius\")\n\n## If there was a sensor failure at 03:00 and we did not capture the data, how would you estimate the missing value? Correct that value in the list of temperatures.\n# Estimating the missing value could be an approach to deal with the missing value.\n\n## We search if there is a wrong vale like 0\ntemperatures_C = [33,66,65,0,59,60,62,64,70,76,80,69,80,83,68,79,61,53,50,49,53,48,45,39]\nfor temps in temperatures_C:\n    if temps == 0:\n        print(\"We found and unexpected value. The value is:\",temps)\n    else:\n        pass\n\n#We modify that value\ntemperatures_C = [33,66,65,0,59,60,62,64,70,76,80,69,80,83,68,79,61,53,50,49,53,48,45,39]\ntemperatures_C[3] = 62\nprint(\"The modified list with the corrected value:\",temperatures_C)\n\n## We find it and modify automatically. The condition used in here is if the temperature is equal to 0.\ntemperatures_C = [33,66,65,0,59,60,62,64,70,76,80,69,80,83,68,79,61,53,50,49,53,48,45,39]\nfor temp in range(len(temperatures_C)):\n    if temperatures_C[temp] == 0:\n        temperatures_C[temp] = 32\nprint(\"The modified list with the corrected value:\",temperatures_C)\n\n\n## Bonus: Our maintenance staff is from the United States and does not understand the international metric system. Convert temperatures to Degrees Fahrenheit.\ntemperatures_C = [33,66,65,0,59,60,62,64,70,76,80,69,80,83,68,79,61,53,50,49,53,48,45,39]\nfahrenheit = []\nfor temps in temperatures_C:\n    f = (temps * 1.8) + 32\n    fahrenheit.append(f)\n\nprint(fahrenheit)",
      "metadata": {
        "trusted": true
      },
      "execution_count": 5,
      "outputs": [
        {
          "name": "stdout",
          "text": "<class 'list'>\nThe minimun temperature during the days was [0] degrees celsius\nThe maximun temperature during the days was [83] degrees celsius\nThis are the temperatures equal or greater than 70 Celsius: [70, 76, 80, 80, 83, 79]\nThis are the temperatures equal or greater than 70 Celsius: [70, 76, 80, 80, 83, 79]\nThe average temperature during the day was 58.833333333333336 degrees celsius\nWe found and unexpected value. The value is: 0\nThe modified list with the corrected value: [33, 66, 65, 62, 59, 60, 62, 64, 70, 76, 80, 69, 80, 83, 68, 79, 61, 53, 50, 49, 53, 48, 45, 39]\nThe modified list with the corrected value: [33, 66, 65, 32, 59, 60, 62, 64, 70, 76, 80, 69, 80, 83, 68, 79, 61, 53, 50, 49, 53, 48, 45, 39]\n[91.4, 150.8, 149.0, 32.0, 138.2, 140.0, 143.60000000000002, 147.2, 158.0, 168.8, 176.0, 156.2, 176.0, 181.4, 154.4, 174.20000000000002, 141.8, 127.4, 122.0, 120.2, 127.4, 118.4, 113.0, 102.2]\n",
          "output_type": "stream"
        }
      ],
      "id": "17e20fde-e859-4303-8de9-75687f66e0ba"
    },
    {
      "cell_type": "markdown",
      "source": "# Taking the decission\n\n## After checking the information, we must give the order to change the cooling system to avoid the danger of damaging the equipment. There are more than 4 hours with temperatures greater than or equal to 70ºC.\n",
      "metadata": {},
      "id": "cf7dc425-b740-49bb-930b-6fe76c5784f9"
    },
    {
      "cell_type": "code",
      "source": "",
      "metadata": {},
      "execution_count": null,
      "outputs": [],
      "id": "fb274f27-fcb3-4cf8-83b1-f7e66a35842b"
    }
  ]
}